{
 "cells": [
  {
   "metadata": {
    "ExecuteTime": {
     "end_time": "2025-02-18T14:44:18.950506Z",
     "start_time": "2025-02-18T14:44:18.942966Z"
    }
   },
   "cell_type": "code",
   "source": [
    "import math\n",
    "import random\n",
    "from tsplib95 import load\n",
    "import matplotlib.pyplot as plt\n",
    "\n",
    "def shufflePaths(num_total_destinations, num_of_population=8000):\n",
    "    random_paths = []\n",
    "    for _ in range(num_of_population):\n",
    "        # Create a sequential path (1, 2, 3, ..., num_total_destinations)\n",
    "        random_path = list(range(1, num_total_destinations + 1))\n",
    "        random.shuffle(random_path)  # Shuffle the path\n",
    "        \n",
    "        # Ensure the path starts and ends at city 1\n",
    "        random_path.remove(1)  # Remove 1 if present in the path\n",
    "        random_path = [1] + random_path + [1]  # Add city 1 to start and end\n",
    "        \n",
    "        random_paths.append(random_path)\n",
    "    return random_paths\n",
    "\n",
    "\n",
    "def readFile(filename): # Load the file\n",
    "    loaded = load(filename)\n",
    "    return loaded\n",
    "\n",
    "\n",
    "def calculate_total_path_distance(path, berlin):\n",
    "    total_distance = 0\n",
    "    for i in range(1, len(path)):\n",
    "        prev_point = berlin.node_coords[path[i - 1]]\n",
    "        curr_point = berlin.node_coords[path[i]]\n",
    "        total_distance += math.dist(prev_point, curr_point)\n",
    "    return round(total_distance, 2)\n"
   ],
   "id": "9a725e25f97b4f02",
   "outputs": [],
   "execution_count": 32
  },
  {
   "metadata": {
    "ExecuteTime": {
     "end_time": "2025-02-18T14:44:18.961480Z",
     "start_time": "2025-02-18T14:44:18.958989Z"
    }
   },
   "cell_type": "code",
   "source": [
    "def elitism(paths, berlin, elite_pick):\n",
    "    paths_total_distance = {calculate_total_path_distance(path, berlin): path for path in paths} # For all paths calculate their fitness score\n",
    "    elitism_path = sorted(paths_total_distance.items(), key=lambda x: x[0]) # Sort the best paths by their distance score (Fitness score)\n",
    "    return [path[1] for path in elitism_path[:elite_pick]]\n"
   ],
   "id": "fbd1c46effdfe5e7",
   "outputs": [],
   "execution_count": 33
  },
  {
   "metadata": {
    "ExecuteTime": {
     "end_time": "2025-02-18T14:44:18.974651Z",
     "start_time": "2025-02-18T14:44:18.969694Z"
    }
   },
   "cell_type": "code",
   "source": [
    "def crossover(parent1, parent2, crossover_rate):\n",
    "    size = len(parent1)\n",
    "    \n",
    "    if random.random() < crossover_rate: # just to determine whether crossover will take place.\n",
    "        point1, point2 = sorted(random.sample(range(1, size - 1), 2)) # Select two random points \n",
    "        segment = parent1[point1:point2] # Get a segment from parent \n",
    "        remaining = [x for x in parent2 if x not in segment and x != 1] # Get remaining cities not in the segment \n",
    "        offspring = [1] + remaining[:point1] + segment + remaining[point1:] + [1] # Add city 1 to start and end, add the segment in between the remaining points.\n",
    "        return offspring[:size] # Return the offspring\n",
    "    \n",
    "    # If crossover does not occur, return one of the parents\n",
    "    return random.choice([parent1, parent2])"
   ],
   "id": "9c4ad831902df084",
   "outputs": [],
   "execution_count": 34
  },
  {
   "metadata": {
    "ExecuteTime": {
     "end_time": "2025-02-18T14:44:18.986367Z",
     "start_time": "2025-02-18T14:44:18.983191Z"
    }
   },
   "cell_type": "code",
   "source": [
    "def order_crossover(parent1, parent2, crossover_rate):\n",
    "    if random.random() >= crossover_rate:\n",
    "        return random.choice([parent1, parent2])\n",
    "        \n",
    "    size = len(parent1)\n",
    "    # Select substring boundaries\n",
    "    start, end = sorted(random.sample(range(1, size - 1), 2))\n",
    "    \n",
    "    # Get substring from parent1\n",
    "    substring = parent1[start:end]\n",
    "    \n",
    "    # Create remaining elements list in parent2 order\n",
    "    remaining = [x for x in parent2 if x not in substring and x != 1]\n",
    "    \n",
    "    # Create offspring\n",
    "    offspring = [1]  # Start with depot\n",
    "    offspring.extend(remaining[:start-1])  # Add elements before substring\n",
    "    offspring.extend(substring)  # Add substring\n",
    "    offspring.extend(remaining[start-1:])  # Add remaining elements\n",
    "    offspring.append(1)  # Return to city 1\n",
    "    \n",
    "    return offspring"
   ],
   "id": "dbd4d19e6867867d",
   "outputs": [],
   "execution_count": 35
  },
  {
   "metadata": {
    "ExecuteTime": {
     "end_time": "2025-02-18T14:44:18.995696Z",
     "start_time": "2025-02-18T14:44:18.992477Z"
    }
   },
   "cell_type": "code",
   "source": [
    "def inversion_mutation(offspring, mutation_rate):\n",
    "    for path in offspring:\n",
    "        if random.random() < mutation_rate:\n",
    "            pos1, pos2 = sorted(random.sample(range(1, len(path) - 1), 2)) # Select two positions\n",
    "            path[pos1:pos2] = reversed(path[pos1:pos2]) # Reverse the substring\n",
    "    return offspring"
   ],
   "id": "5a38003cf0a8b5bb",
   "outputs": [],
   "execution_count": 36
  },
  {
   "metadata": {
    "ExecuteTime": {
     "end_time": "2025-02-18T14:44:19.004014Z",
     "start_time": "2025-02-18T14:44:19.001408Z"
    }
   },
   "cell_type": "code",
   "source": [
    "def swap_mutation(offspring, mutation_rate): # Function for swapping two points in a path\n",
    "    for path in offspring:\n",
    "        if random.random() < mutation_rate:\n",
    "            idx1, idx2 = sorted(random.sample(range(1, len(path) - 1), 2))\n",
    "            path[idx1], path[idx2] = path[idx2], path[idx1]\n",
    "    return offspring"
   ],
   "id": "2219c99d87eef198",
   "outputs": [],
   "execution_count": 37
  },
  {
   "metadata": {
    "ExecuteTime": {
     "end_time": "2025-02-18T14:44:19.011084Z",
     "start_time": "2025-02-18T14:44:19.008575Z"
    }
   },
   "cell_type": "code",
   "source": [
    "\n",
    "def plot_results(fitness_history, name): # Function to plot the results\n",
    "    plt.figure(figsize=(10, 5))\n",
    "    plt.plot(range(1, len(fitness_history) + 1), fitness_history, marker='o', linestyle='-')\n",
    "    plt.xlabel(\"Generation\")\n",
    "    plt.ylabel(\"Best Path Distance\")\n",
    "    plt.title(\"TSP Optimization Progress - \" + name)\n",
    "    plt.grid(True)\n",
    "    plt.show()\n"
   ],
   "id": "d1b24f902619cab2",
   "outputs": [],
   "execution_count": 38
  },
  {
   "metadata": {
    "ExecuteTime": {
     "end_time": "2025-02-18T14:44:19.019307Z",
     "start_time": "2025-02-18T14:44:19.015520Z"
    }
   },
   "cell_type": "code",
   "source": [
    "import time\n",
    "\n",
    "def run_evolution_crossover_mutation(berlin, num_generations=100, mutation_rate=0.3, elite_pick=10,num_of_population=20000,crossover_rate=0.5):\n",
    "    history = []\n",
    "    paths = shufflePaths(len(berlin.node_coords),num_of_population) # Create paths\n",
    "    best_path, best_fitness = None, float('inf')\n",
    "    print(\" Starting Genetic Algorithm\\n-----------------------------\")\n",
    "    start_time = time.time()   #Start tracking time\n",
    "    \n",
    "    initial_mutation_rate = mutation_rate  # Default mutation rate\n",
    "    mutation_rate = initial_mutation_rate # Encase we need to reset to initial_mutation_rate\n",
    "    no_improvement_count = 0  # Track consecutive stagnation generations\n",
    "\n",
    "    for generation in range(num_generations):\n",
    "        elite = elitism(paths, berlin, elite_pick) # get the best paths \n",
    "        offspring = [crossover(elite[i % 2], elite[(i + 1) % 2],crossover_rate) for i in range(len(elite))] # It loops over the elite list and selects two parents at a time.\n",
    "        mutated_offspring = swap_mutation(offspring, mutation_rate) # Mutate the offspring of crossover \n",
    "        paths.extend(mutated_offspring) # Add offspring to paths\n",
    "        current_best, current_best_fitness = min(((p, calculate_total_path_distance(p, berlin)) for p in paths), key=lambda x: x[1])#   \n",
    "        initial_mutation_rate = mutation_rate\n",
    "        mutation_rate = initial_mutation_rate  \n",
    "        \n",
    "        \n",
    "         # Check if there is an improvement\n",
    "        if history and current_best_fitness >= history[-1]:  \n",
    "            no_improvement_count += 1  # Increment stagnation counter\n",
    "        else:\n",
    "            no_improvement_count = 0  # Reset if improvement occurs\n",
    "    \n",
    "        # Increase mutation rate if stuck for 5 generations\n",
    "        if no_improvement_count >= 10:\n",
    "            mutation_rate = min(mutation_rate + 0.05, 1)  # Max limit at 0.5\n",
    "    \n",
    "        # Decrease mutation rate slightly every 5 generations\n",
    "        if generation % 5 == 0 and mutation_rate > initial_mutation_rate:\n",
    "            mutation_rate = max(mutation_rate - 0.02, initial_mutation_rate)  # Reduce, but not below initial value\n",
    "\n",
    "        \n",
    "        history.append(current_best_fitness)  # Store fitness\n",
    "        if current_best_fitness < best_fitness:\n",
    "            best_path, best_fitness = current_best, current_best_fitness\n",
    "\n",
    "            # Print progress\n",
    "        if (generation + 1) % 10 == 0:\n",
    "            print(\n",
    "                f\"Generation {generation + 1}: Best Fitness = {current_best_fitness:.2f} Mutation Rate = {mutation_rate:.2f} Crossover Rate = {crossover_rate:.2f}\")\n",
    "    end_time = time.time()  \n",
    "    total_time = end_time - start_time \n",
    "    return best_path, best_fitness, history, total_time\n"
   ],
   "id": "a387e364f6c3602f",
   "outputs": [],
   "execution_count": 39
  },
  {
   "metadata": {
    "ExecuteTime": {
     "end_time": "2025-02-18T14:44:19.027622Z",
     "start_time": "2025-02-18T14:44:19.024326Z"
    }
   },
   "cell_type": "code",
   "source": [
    "def run_evolution_order_inversion(berlin, num_generations=100, mutation_rate=0.3, elite_pick=10,num_of_population=20000,crossover_rate=0.5):\n",
    "    history = []\n",
    "    paths = shufflePaths(len(berlin.node_coords),num_of_population)  \n",
    "    best_path, best_fitness = None, float('inf') \n",
    "    print(\" Starting Genetic Algorithm\\n-----------------------------\")\n",
    "    start_time = time.time()  \n",
    "    initial_mutation_rate = mutation_rate  # Default mutation rate\n",
    "    mutation_rate = initial_mutation_rate\n",
    "    no_improvement_count = 0  # Track consecutive stagnation generations\n",
    "\n",
    "    for generation in range(num_generations):\n",
    "        elite = elitism(paths, berlin, elite_pick)\n",
    "        offspring = [order_crossover(elite[i % 2], elite[(i + 1) % 2], crossover_rate) for i in range(len(elite))]\n",
    "        mutated_offspring = inversion_mutation(offspring, mutation_rate)\n",
    "        paths.extend(mutated_offspring)\n",
    "        current_best, current_best_fitness = min(((p, calculate_total_path_distance(p, berlin)) for p in paths), key=lambda x: x[1])\n",
    "\n",
    "         # Check if there is an improvement\n",
    "        if history and current_best_fitness >= history[-1]:  \n",
    "            no_improvement_count += 1  # Increment stagnation counter\n",
    "        else:\n",
    "            no_improvement_count = 0  # Reset if improvement occurs\n",
    "    \n",
    "        # Increase mutation rate if stuck for 5 generations\n",
    "        if no_improvement_count >= 10:\n",
    "            mutation_rate = min(mutation_rate + 0.05, 1)  # Max limit at 0.5\n",
    "    \n",
    "        # Decrease mutation rate slightly every 5 generations\n",
    "        if generation % 5 == 0 and mutation_rate > initial_mutation_rate:\n",
    "            mutation_rate = max(mutation_rate - 0.02, initial_mutation_rate)  # Reduce, but not below initial value\n",
    "\n",
    "        \n",
    "        history.append(current_best_fitness)  # Store fitness\n",
    "        if current_best_fitness < best_fitness:\n",
    "            best_path, best_fitness = current_best, current_best_fitness\n",
    "\n",
    "        if (generation + 1) % 10 == 0:\n",
    "            print(\n",
    "                f\"Generation {generation + 1}: Best Fitness = {current_best_fitness:.2f} Mutation Rate = {mutation_rate:.2f} Crossover Rate = {crossover_rate:.2f}\")\n",
    "    end_time = time.time() \n",
    "    total_time = end_time - start_time \n",
    "    return best_path, best_fitness, history, total_time\n"
   ],
   "id": "8af57baa5a158668",
   "outputs": [],
   "execution_count": 40
  },
  {
   "metadata": {
    "ExecuteTime": {
     "end_time": "2025-02-18T14:44:26.387168Z",
     "start_time": "2025-02-18T14:44:19.039390Z"
    }
   },
   "cell_type": "code",
   "source": [
    "# Berlin52 crossover_mutation\n",
    "berlin = readFile(\"Dataset/berlin52.tsp\")\n",
    "best_path, best_fitness, history, duration = run_evolution_crossover_mutation(berlin, num_generations=200, mutation_rate=0.11, elite_pick=10, num_of_population=100, crossover_rate=0.9)\n",
    "print(f\"Path: {best_path}\\nTotal Distance: {best_fitness:.2f} with Crossover & Swap Mutation\")\n",
    "plot_results(history,\"Berlin\")\n",
    "print(f\"Total Time Taken: {duration:.2f} seconds\")\n"
   ],
   "id": "77a459bafb80b82b",
   "outputs": [
    {
     "name": "stdout",
     "output_type": "stream",
     "text": [
      " Starting Genetic Algorithm\n",
      "-----------------------------\n",
      "Generation 10: Best Fitness = 21915.34 Mutation Rate = 0.11 Crossover Rate = 0.90\n",
      "Generation 20: Best Fitness = 19624.63 Mutation Rate = 0.11 Crossover Rate = 0.90\n",
      "Generation 30: Best Fitness = 18544.91 Mutation Rate = 0.11 Crossover Rate = 0.90\n",
      "Generation 40: Best Fitness = 17556.97 Mutation Rate = 0.11 Crossover Rate = 0.90\n",
      "Generation 50: Best Fitness = 16910.05 Mutation Rate = 0.11 Crossover Rate = 0.90\n",
      "Generation 60: Best Fitness = 16086.25 Mutation Rate = 0.11 Crossover Rate = 0.90\n",
      "Generation 70: Best Fitness = 15539.26 Mutation Rate = 0.11 Crossover Rate = 0.90\n",
      "Generation 80: Best Fitness = 14674.02 Mutation Rate = 0.11 Crossover Rate = 0.90\n",
      "Generation 90: Best Fitness = 13995.75 Mutation Rate = 0.11 Crossover Rate = 0.90\n",
      "Generation 100: Best Fitness = 13830.52 Mutation Rate = 0.11 Crossover Rate = 0.90\n",
      "Generation 110: Best Fitness = 13579.59 Mutation Rate = 0.11 Crossover Rate = 0.90\n",
      "Generation 120: Best Fitness = 13579.59 Mutation Rate = 0.26 Crossover Rate = 0.90\n",
      "Generation 130: Best Fitness = 13569.80 Mutation Rate = 0.39 Crossover Rate = 0.90\n",
      "Generation 140: Best Fitness = 13352.32 Mutation Rate = 0.67 Crossover Rate = 0.90\n",
      "Generation 150: Best Fitness = 13246.04 Mutation Rate = 0.67 Crossover Rate = 0.90\n",
      "Generation 160: Best Fitness = 12609.28 Mutation Rate = 0.67 Crossover Rate = 0.90\n",
      "Generation 170: Best Fitness = 12410.47 Mutation Rate = 0.67 Crossover Rate = 0.90\n",
      "Generation 180: Best Fitness = 12417.33 Mutation Rate = 0.67 Crossover Rate = 0.90\n",
      "Generation 190: Best Fitness = 12607.40 Mutation Rate = 0.80 Crossover Rate = 0.90\n",
      "Generation 200: Best Fitness = 12649.02 Mutation Rate = 0.90 Crossover Rate = 0.90\n",
      "Path: [1, 35, 46, 12, 24, 18, 38, 37, 15, 36, 39, 49, 32, 22, 40, 50, 3, 17, 4, 25, 6, 48, 5, 41, 8, 10, 9, 33, 43, 19, 42, 2, 7, 30, 26, 28, 27, 11, 51, 52, 13, 14, 47, 29, 20, 45, 16, 44, 34, 23, 21, 31, 1]\n",
      "Total Distance: 12271.14 with Crossover & Swap Mutation\n"
     ]
    },
    {
     "data": {
      "text/plain": [
       "<Figure size 1000x500 with 1 Axes>"
      ],
      "image/png": "[encoded data removed]"
     },
     "metadata": {},
     "output_type": "display_data"
    },
    {
     "name": "stdout",
     "output_type": "stream",
     "text": [
      "Total Time Taken: 7.23 seconds\n"
     ]
    }
   ],
   "execution_count": 41
  },
  {
   "metadata": {
    "ExecuteTime": {
     "end_time": "2025-02-18T15:12:53.582332Z",
     "start_time": "2025-02-18T15:10:50.151535Z"
    }
   },
   "cell_type": "code",
   "source": [
    "#Berlin52 order_inversion\n",
    "berlin = readFile(\"Dataset/berlin52.tsp\")\n",
    "best_path, best_fitness, history, duration = run_evolution_order_inversion(berlin, num_generations=500, mutation_rate=0.05, elite_pick=75, num_of_population=3000, crossover_rate=0.85)\n",
    "print(f\"Path: {best_path}\\nTotal Distance: {best_fitness:.2f} with Ordered Crossover & Inversion Mutation\")\n",
    "plot_results(history, \"Berlin\")\n",
    "print(f\"Total Time Taken: {duration:.2f} seconds\")\n"
   ],
   "id": "898b906020e23047",
   "outputs": [
    {
     "name": "stdout",
     "output_type": "stream",
     "text": [
      " Starting Genetic Algorithm\n",
      "-----------------------------\n",
      "Generation 10: Best Fitness = 19972.73 Mutation Rate = 0.05 Crossover Rate = 0.85\n",
      "Generation 20: Best Fitness = 17534.38 Mutation Rate = 0.05 Crossover Rate = 0.85\n",
      "Generation 30: Best Fitness = 16406.37 Mutation Rate = 0.05 Crossover Rate = 0.85\n",
      "Generation 40: Best Fitness = 14043.57 Mutation Rate = 0.05 Crossover Rate = 0.85\n",
      "Generation 50: Best Fitness = 12409.17 Mutation Rate = 0.05 Crossover Rate = 0.85\n",
      "Generation 60: Best Fitness = 11881.24 Mutation Rate = 0.05 Crossover Rate = 0.85\n",
      "Generation 70: Best Fitness = 11738.80 Mutation Rate = 0.05 Crossover Rate = 0.85\n",
      "Generation 80: Best Fitness = 11592.30 Mutation Rate = 0.05 Crossover Rate = 0.85\n",
      "Generation 90: Best Fitness = 11385.62 Mutation Rate = 0.08 Crossover Rate = 0.85\n",
      "Generation 100: Best Fitness = 11385.62 Mutation Rate = 0.10 Crossover Rate = 0.85\n",
      "Generation 110: Best Fitness = 11282.38 Mutation Rate = 0.36 Crossover Rate = 0.85\n",
      "Generation 120: Best Fitness = 10993.02 Mutation Rate = 0.32 Crossover Rate = 0.85\n",
      "Generation 130: Best Fitness = 10457.10 Mutation Rate = 0.28 Crossover Rate = 0.85\n",
      "Generation 140: Best Fitness = 10196.49 Mutation Rate = 0.24 Crossover Rate = 0.85\n",
      "Generation 150: Best Fitness = 10196.49 Mutation Rate = 0.35 Crossover Rate = 0.85\n",
      "Generation 160: Best Fitness = 9617.55 Mutation Rate = 0.41 Crossover Rate = 0.85\n",
      "Generation 170: Best Fitness = 9542.74 Mutation Rate = 0.37 Crossover Rate = 0.85\n",
      "Generation 180: Best Fitness = 9449.54 Mutation Rate = 0.33 Crossover Rate = 0.85\n",
      "Generation 190: Best Fitness = 9449.54 Mutation Rate = 0.54 Crossover Rate = 0.85\n",
      "Generation 200: Best Fitness = 9406.06 Mutation Rate = 0.65 Crossover Rate = 0.85\n",
      "Generation 210: Best Fitness = 9390.68 Mutation Rate = 0.76 Crossover Rate = 0.85\n",
      "Generation 220: Best Fitness = 8866.32 Mutation Rate = 0.72 Crossover Rate = 0.85\n",
      "Generation 230: Best Fitness = 8852.51 Mutation Rate = 0.68 Crossover Rate = 0.85\n",
      "Generation 240: Best Fitness = 8640.60 Mutation Rate = 0.64 Crossover Rate = 0.85\n",
      "Generation 250: Best Fitness = 8616.57 Mutation Rate = 0.60 Crossover Rate = 0.85\n",
      "Generation 260: Best Fitness = 8595.07 Mutation Rate = 0.56 Crossover Rate = 0.85\n",
      "Generation 270: Best Fitness = 8595.07 Mutation Rate = 0.97 Crossover Rate = 0.85\n",
      "Generation 280: Best Fitness = 8595.07 Mutation Rate = 1.00 Crossover Rate = 0.85\n",
      "Generation 290: Best Fitness = 8595.07 Mutation Rate = 1.00 Crossover Rate = 0.85\n"
     ]
    },
    {
     "ename": "KeyboardInterrupt",
     "evalue": "",
     "output_type": "error",
     "traceback": [
      "\u001B[0;31m---------------------------------------------------------------------------\u001B[0m",
      "\u001B[0;31mKeyboardInterrupt\u001B[0m                         Traceback (most recent call last)",
      "Cell \u001B[0;32mIn[47], line 3\u001B[0m\n\u001B[1;32m      1\u001B[0m \u001B[38;5;66;03m#Berlin52 order_inversion\u001B[39;00m\n\u001B[1;32m      2\u001B[0m berlin \u001B[38;5;241m=\u001B[39m readFile(\u001B[38;5;124m\"\u001B[39m\u001B[38;5;124mDataset/berlin52.tsp\u001B[39m\u001B[38;5;124m\"\u001B[39m)\n\u001B[0;32m----> 3\u001B[0m best_path, best_fitness, history, duration \u001B[38;5;241m=\u001B[39m \u001B[43mrun_evolution_order_inversion\u001B[49m\u001B[43m(\u001B[49m\u001B[43mberlin\u001B[49m\u001B[43m,\u001B[49m\u001B[43m \u001B[49m\u001B[43mnum_generations\u001B[49m\u001B[38;5;241;43m=\u001B[39;49m\u001B[38;5;241;43m500\u001B[39;49m\u001B[43m,\u001B[49m\u001B[43m \u001B[49m\u001B[43mmutation_rate\u001B[49m\u001B[38;5;241;43m=\u001B[39;49m\u001B[38;5;241;43m0.05\u001B[39;49m\u001B[43m,\u001B[49m\u001B[43m \u001B[49m\u001B[43melite_pick\u001B[49m\u001B[38;5;241;43m=\u001B[39;49m\u001B[38;5;241;43m75\u001B[39;49m\u001B[43m,\u001B[49m\u001B[43m \u001B[49m\u001B[43mnum_of_population\u001B[49m\u001B[38;5;241;43m=\u001B[39;49m\u001B[38;5;241;43m3000\u001B[39;49m\u001B[43m,\u001B[49m\u001B[43m \u001B[49m\u001B[43mcrossover_rate\u001B[49m\u001B[38;5;241;43m=\u001B[39;49m\u001B[38;5;241;43m0.85\u001B[39;49m\u001B[43m)\u001B[49m\n\u001B[1;32m      4\u001B[0m \u001B[38;5;28mprint\u001B[39m(\u001B[38;5;124mf\u001B[39m\u001B[38;5;124m\"\u001B[39m\u001B[38;5;124mPath: \u001B[39m\u001B[38;5;132;01m{\u001B[39;00mbest_path\u001B[38;5;132;01m}\u001B[39;00m\u001B[38;5;130;01m\\n\u001B[39;00m\u001B[38;5;124mTotal Distance: \u001B[39m\u001B[38;5;132;01m{\u001B[39;00mbest_fitness\u001B[38;5;132;01m:\u001B[39;00m\u001B[38;5;124m.2f\u001B[39m\u001B[38;5;132;01m}\u001B[39;00m\u001B[38;5;124m with Ordered Crossover & Inversion Mutation\u001B[39m\u001B[38;5;124m\"\u001B[39m)\n\u001B[1;32m      5\u001B[0m plot_results(history, \u001B[38;5;124m\"\u001B[39m\u001B[38;5;124mBerlin\u001B[39m\u001B[38;5;124m\"\u001B[39m)\n",
      "Cell \u001B[0;32mIn[40], line 16\u001B[0m, in \u001B[0;36mrun_evolution_order_inversion\u001B[0;34m(berlin, num_generations, mutation_rate, elite_pick, num_of_population, crossover_rate)\u001B[0m\n\u001B[1;32m     14\u001B[0m mutated_offspring \u001B[38;5;241m=\u001B[39m inversion_mutation(offspring, mutation_rate)\n\u001B[1;32m     15\u001B[0m paths\u001B[38;5;241m.\u001B[39mextend(mutated_offspring)\n\u001B[0;32m---> 16\u001B[0m current_best, current_best_fitness \u001B[38;5;241m=\u001B[39m \u001B[38;5;28;43mmin\u001B[39;49m\u001B[43m(\u001B[49m\u001B[43m(\u001B[49m\u001B[43m(\u001B[49m\u001B[43mp\u001B[49m\u001B[43m,\u001B[49m\u001B[43m \u001B[49m\u001B[43mcalculate_total_path_distance\u001B[49m\u001B[43m(\u001B[49m\u001B[43mp\u001B[49m\u001B[43m,\u001B[49m\u001B[43m \u001B[49m\u001B[43mberlin\u001B[49m\u001B[43m)\u001B[49m\u001B[43m)\u001B[49m\u001B[43m \u001B[49m\u001B[38;5;28;43;01mfor\u001B[39;49;00m\u001B[43m \u001B[49m\u001B[43mp\u001B[49m\u001B[43m \u001B[49m\u001B[38;5;129;43;01min\u001B[39;49;00m\u001B[43m \u001B[49m\u001B[43mpaths\u001B[49m\u001B[43m)\u001B[49m\u001B[43m,\u001B[49m\u001B[43m \u001B[49m\u001B[43mkey\u001B[49m\u001B[38;5;241;43m=\u001B[39;49m\u001B[38;5;28;43;01mlambda\u001B[39;49;00m\u001B[43m \u001B[49m\u001B[43mx\u001B[49m\u001B[43m:\u001B[49m\u001B[43m \u001B[49m\u001B[43mx\u001B[49m\u001B[43m[\u001B[49m\u001B[38;5;241;43m1\u001B[39;49m\u001B[43m]\u001B[49m\u001B[43m)\u001B[49m\n\u001B[1;32m     18\u001B[0m  \u001B[38;5;66;03m# Check if there is an improvement\u001B[39;00m\n\u001B[1;32m     19\u001B[0m \u001B[38;5;28;01mif\u001B[39;00m history \u001B[38;5;129;01mand\u001B[39;00m current_best_fitness \u001B[38;5;241m>\u001B[39m\u001B[38;5;241m=\u001B[39m history[\u001B[38;5;241m-\u001B[39m\u001B[38;5;241m1\u001B[39m]:  \n",
      "Cell \u001B[0;32mIn[40], line 16\u001B[0m, in \u001B[0;36m<genexpr>\u001B[0;34m(.0)\u001B[0m\n\u001B[1;32m     14\u001B[0m mutated_offspring \u001B[38;5;241m=\u001B[39m inversion_mutation(offspring, mutation_rate)\n\u001B[1;32m     15\u001B[0m paths\u001B[38;5;241m.\u001B[39mextend(mutated_offspring)\n\u001B[0;32m---> 16\u001B[0m current_best, current_best_fitness \u001B[38;5;241m=\u001B[39m \u001B[38;5;28mmin\u001B[39m(((p, \u001B[43mcalculate_total_path_distance\u001B[49m\u001B[43m(\u001B[49m\u001B[43mp\u001B[49m\u001B[43m,\u001B[49m\u001B[43m \u001B[49m\u001B[43mberlin\u001B[49m\u001B[43m)\u001B[49m) \u001B[38;5;28;01mfor\u001B[39;00m p \u001B[38;5;129;01min\u001B[39;00m paths), key\u001B[38;5;241m=\u001B[39m\u001B[38;5;28;01mlambda\u001B[39;00m x: x[\u001B[38;5;241m1\u001B[39m])\n\u001B[1;32m     18\u001B[0m  \u001B[38;5;66;03m# Check if there is an improvement\u001B[39;00m\n\u001B[1;32m     19\u001B[0m \u001B[38;5;28;01mif\u001B[39;00m history \u001B[38;5;129;01mand\u001B[39;00m current_best_fitness \u001B[38;5;241m>\u001B[39m\u001B[38;5;241m=\u001B[39m history[\u001B[38;5;241m-\u001B[39m\u001B[38;5;241m1\u001B[39m]:  \n",
      "Cell \u001B[0;32mIn[32], line 31\u001B[0m, in \u001B[0;36mcalculate_total_path_distance\u001B[0;34m(path, berlin)\u001B[0m\n\u001B[1;32m     29\u001B[0m     prev_point \u001B[38;5;241m=\u001B[39m berlin\u001B[38;5;241m.\u001B[39mnode_coords[path[i \u001B[38;5;241m-\u001B[39m \u001B[38;5;241m1\u001B[39m]]\n\u001B[1;32m     30\u001B[0m     curr_point \u001B[38;5;241m=\u001B[39m berlin\u001B[38;5;241m.\u001B[39mnode_coords[path[i]]\n\u001B[0;32m---> 31\u001B[0m     total_distance \u001B[38;5;241m+\u001B[39m\u001B[38;5;241m=\u001B[39m \u001B[43mmath\u001B[49m\u001B[38;5;241;43m.\u001B[39;49m\u001B[43mdist\u001B[49m\u001B[43m(\u001B[49m\u001B[43mprev_point\u001B[49m\u001B[43m,\u001B[49m\u001B[43m \u001B[49m\u001B[43mcurr_point\u001B[49m\u001B[43m)\u001B[49m\n\u001B[1;32m     32\u001B[0m \u001B[38;5;28;01mreturn\u001B[39;00m \u001B[38;5;28mround\u001B[39m(total_distance, \u001B[38;5;241m2\u001B[39m)\n",
      "\u001B[0;31mKeyboardInterrupt\u001B[0m: "
     ]
    }
   ],
   "execution_count": 47
  },
  {
   "metadata": {
    "ExecuteTime": {
     "start_time": "2025-02-18T14:51:30.048084Z"
    }
   },
   "cell_type": "code",
   "source": [
    "#KroA100 order_mutation\n",
    "kr = readFile(\"Dataset/kroA100.tsp\")\n",
    "best_path, best_fitness, history, duration = run_evolution_crossover_mutation(kr, num_generations=500, mutation_rate=0.01, elite_pick=100, num_of_population=1000, crossover_rate=0.9)\n",
    "print(f\"\\nkroA100: \\nPath: {best_path}\\nTotal Distance: {best_fitness:.2f} with Crossover & Swap Mutation\")\n",
    "plot_results(history, \"KroA100\")\n",
    "print(f\"Total Time Taken: {duration:.2f} seconds\")\n"
   ],
   "id": "b6a07bae1599b17b",
   "outputs": [
    {
     "name": "stdout",
     "output_type": "stream",
     "text": [
      " Starting Genetic Algorithm\n",
      "-----------------------------\n",
      "Generation 10: Best Fitness = 109172.12 Mutation Rate = 0.01 Crossover Rate = 0.90\n",
      "Generation 20: Best Fitness = 95311.29 Mutation Rate = 0.01 Crossover Rate = 0.90\n",
      "Generation 30: Best Fitness = 84909.09 Mutation Rate = 0.01 Crossover Rate = 0.90\n",
      "Generation 40: Best Fitness = 75693.85 Mutation Rate = 0.01 Crossover Rate = 0.90\n",
      "Generation 50: Best Fitness = 68479.33 Mutation Rate = 0.01 Crossover Rate = 0.90\n",
      "Generation 60: Best Fitness = 64328.29 Mutation Rate = 0.01 Crossover Rate = 0.90\n"
     ]
    },
    {
     "ename": "KeyboardInterrupt",
     "evalue": "",
     "output_type": "error",
     "traceback": [
      "\u001B[0;31m---------------------------------------------------------------------------\u001B[0m",
      "\u001B[0;31mKeyboardInterrupt\u001B[0m                         Traceback (most recent call last)",
      "Cell \u001B[0;32mIn[43], line 3\u001B[0m\n\u001B[1;32m      1\u001B[0m \u001B[38;5;66;03m#KroA100 order_mutation\u001B[39;00m\n\u001B[1;32m      2\u001B[0m kr \u001B[38;5;241m=\u001B[39m readFile(\u001B[38;5;124m\"\u001B[39m\u001B[38;5;124mDataset/kroA100.tsp\u001B[39m\u001B[38;5;124m\"\u001B[39m)\n\u001B[0;32m----> 3\u001B[0m best_path, best_fitness, history, duration \u001B[38;5;241m=\u001B[39m \u001B[43mrun_evolution_crossover_mutation\u001B[49m\u001B[43m(\u001B[49m\u001B[43mkr\u001B[49m\u001B[43m,\u001B[49m\u001B[43m \u001B[49m\u001B[43mnum_generations\u001B[49m\u001B[38;5;241;43m=\u001B[39;49m\u001B[38;5;241;43m500\u001B[39;49m\u001B[43m,\u001B[49m\u001B[43m \u001B[49m\u001B[43mmutation_rate\u001B[49m\u001B[38;5;241;43m=\u001B[39;49m\u001B[38;5;241;43m0.01\u001B[39;49m\u001B[43m,\u001B[49m\u001B[43m \u001B[49m\u001B[43melite_pick\u001B[49m\u001B[38;5;241;43m=\u001B[39;49m\u001B[38;5;241;43m100\u001B[39;49m\u001B[43m,\u001B[49m\u001B[43m \u001B[49m\u001B[43mnum_of_population\u001B[49m\u001B[38;5;241;43m=\u001B[39;49m\u001B[38;5;241;43m1000\u001B[39;49m\u001B[43m,\u001B[49m\u001B[43m \u001B[49m\u001B[43mcrossover_rate\u001B[49m\u001B[38;5;241;43m=\u001B[39;49m\u001B[38;5;241;43m0.9\u001B[39;49m\u001B[43m)\u001B[49m\n\u001B[1;32m      4\u001B[0m \u001B[38;5;28mprint\u001B[39m(\u001B[38;5;124mf\u001B[39m\u001B[38;5;124m\"\u001B[39m\u001B[38;5;130;01m\\n\u001B[39;00m\u001B[38;5;124mkroA100: \u001B[39m\u001B[38;5;130;01m\\n\u001B[39;00m\u001B[38;5;124mPath: \u001B[39m\u001B[38;5;132;01m{\u001B[39;00mbest_path\u001B[38;5;132;01m}\u001B[39;00m\u001B[38;5;130;01m\\n\u001B[39;00m\u001B[38;5;124mTotal Distance: \u001B[39m\u001B[38;5;132;01m{\u001B[39;00mbest_fitness\u001B[38;5;132;01m:\u001B[39;00m\u001B[38;5;124m.2f\u001B[39m\u001B[38;5;132;01m}\u001B[39;00m\u001B[38;5;124m with Crossover & Swap Mutation\u001B[39m\u001B[38;5;124m\"\u001B[39m)\n\u001B[1;32m      5\u001B[0m plot_results(history, \u001B[38;5;124m\"\u001B[39m\u001B[38;5;124mKroA100\u001B[39m\u001B[38;5;124m\"\u001B[39m)\n",
      "Cell \u001B[0;32mIn[39], line 19\u001B[0m, in \u001B[0;36mrun_evolution_crossover_mutation\u001B[0;34m(berlin, num_generations, mutation_rate, elite_pick, num_of_population, crossover_rate)\u001B[0m\n\u001B[1;32m     17\u001B[0m mutated_offspring \u001B[38;5;241m=\u001B[39m swap_mutation(offspring, mutation_rate) \u001B[38;5;66;03m# Mutate the offspring of crossover \u001B[39;00m\n\u001B[1;32m     18\u001B[0m paths\u001B[38;5;241m.\u001B[39mextend(mutated_offspring) \u001B[38;5;66;03m# Add offspring to paths\u001B[39;00m\n\u001B[0;32m---> 19\u001B[0m current_best, current_best_fitness \u001B[38;5;241m=\u001B[39m \u001B[38;5;28;43mmin\u001B[39;49m\u001B[43m(\u001B[49m\u001B[43m(\u001B[49m\u001B[43m(\u001B[49m\u001B[43mp\u001B[49m\u001B[43m,\u001B[49m\u001B[43m \u001B[49m\u001B[43mcalculate_total_path_distance\u001B[49m\u001B[43m(\u001B[49m\u001B[43mp\u001B[49m\u001B[43m,\u001B[49m\u001B[43m \u001B[49m\u001B[43mberlin\u001B[49m\u001B[43m)\u001B[49m\u001B[43m)\u001B[49m\u001B[43m \u001B[49m\u001B[38;5;28;43;01mfor\u001B[39;49;00m\u001B[43m \u001B[49m\u001B[43mp\u001B[49m\u001B[43m \u001B[49m\u001B[38;5;129;43;01min\u001B[39;49;00m\u001B[43m \u001B[49m\u001B[43mpaths\u001B[49m\u001B[43m)\u001B[49m\u001B[43m,\u001B[49m\u001B[43m \u001B[49m\u001B[43mkey\u001B[49m\u001B[38;5;241;43m=\u001B[39;49m\u001B[38;5;28;43;01mlambda\u001B[39;49;00m\u001B[43m \u001B[49m\u001B[43mx\u001B[49m\u001B[43m:\u001B[49m\u001B[43m \u001B[49m\u001B[43mx\u001B[49m\u001B[43m[\u001B[49m\u001B[38;5;241;43m1\u001B[39;49m\u001B[43m]\u001B[49m\u001B[43m)\u001B[49m\u001B[38;5;66;03m#   \u001B[39;00m\n\u001B[1;32m     20\u001B[0m initial_mutation_rate \u001B[38;5;241m=\u001B[39m mutation_rate\n\u001B[1;32m     21\u001B[0m mutation_rate \u001B[38;5;241m=\u001B[39m initial_mutation_rate  \n",
      "Cell \u001B[0;32mIn[39], line 19\u001B[0m, in \u001B[0;36m<genexpr>\u001B[0;34m(.0)\u001B[0m\n\u001B[1;32m     17\u001B[0m mutated_offspring \u001B[38;5;241m=\u001B[39m swap_mutation(offspring, mutation_rate) \u001B[38;5;66;03m# Mutate the offspring of crossover \u001B[39;00m\n\u001B[1;32m     18\u001B[0m paths\u001B[38;5;241m.\u001B[39mextend(mutated_offspring) \u001B[38;5;66;03m# Add offspring to paths\u001B[39;00m\n\u001B[0;32m---> 19\u001B[0m current_best, current_best_fitness \u001B[38;5;241m=\u001B[39m \u001B[38;5;28mmin\u001B[39m(((p, \u001B[43mcalculate_total_path_distance\u001B[49m\u001B[43m(\u001B[49m\u001B[43mp\u001B[49m\u001B[43m,\u001B[49m\u001B[43m \u001B[49m\u001B[43mberlin\u001B[49m\u001B[43m)\u001B[49m) \u001B[38;5;28;01mfor\u001B[39;00m p \u001B[38;5;129;01min\u001B[39;00m paths), key\u001B[38;5;241m=\u001B[39m\u001B[38;5;28;01mlambda\u001B[39;00m x: x[\u001B[38;5;241m1\u001B[39m])\u001B[38;5;66;03m#   \u001B[39;00m\n\u001B[1;32m     20\u001B[0m initial_mutation_rate \u001B[38;5;241m=\u001B[39m mutation_rate\n\u001B[1;32m     21\u001B[0m mutation_rate \u001B[38;5;241m=\u001B[39m initial_mutation_rate  \n",
      "Cell \u001B[0;32mIn[32], line 30\u001B[0m, in \u001B[0;36mcalculate_total_path_distance\u001B[0;34m(path, berlin)\u001B[0m\n\u001B[1;32m     28\u001B[0m \u001B[38;5;28;01mfor\u001B[39;00m i \u001B[38;5;129;01min\u001B[39;00m \u001B[38;5;28mrange\u001B[39m(\u001B[38;5;241m1\u001B[39m, \u001B[38;5;28mlen\u001B[39m(path)):\n\u001B[1;32m     29\u001B[0m     prev_point \u001B[38;5;241m=\u001B[39m berlin\u001B[38;5;241m.\u001B[39mnode_coords[path[i \u001B[38;5;241m-\u001B[39m \u001B[38;5;241m1\u001B[39m]]\n\u001B[0;32m---> 30\u001B[0m     curr_point \u001B[38;5;241m=\u001B[39m \u001B[43mberlin\u001B[49m\u001B[38;5;241;43m.\u001B[39;49m\u001B[43mnode_coords\u001B[49m[path[i]]\n\u001B[1;32m     31\u001B[0m     total_distance \u001B[38;5;241m+\u001B[39m\u001B[38;5;241m=\u001B[39m math\u001B[38;5;241m.\u001B[39mdist(prev_point, curr_point)\n\u001B[1;32m     32\u001B[0m \u001B[38;5;28;01mreturn\u001B[39;00m \u001B[38;5;28mround\u001B[39m(total_distance, \u001B[38;5;241m2\u001B[39m)\n",
      "File \u001B[0;32m~/TSP/TravellingSalesmanProblem/.venv/lib/python3.12/site-packages/tsplib95/models.py:160\u001B[0m, in \u001B[0;36mProblem.__getattribute__\u001B[0;34m(self, name)\u001B[0m\n\u001B[1;32m    157\u001B[0m \u001B[38;5;28;01mdef\u001B[39;00m\u001B[38;5;250m \u001B[39m\u001B[38;5;21m__getattribute__\u001B[39m(\u001B[38;5;28mself\u001B[39m, name):\n\u001B[1;32m    158\u001B[0m     \u001B[38;5;66;03m# check for a value like normal\u001B[39;00m\n\u001B[1;32m    159\u001B[0m     \u001B[38;5;28;01mtry\u001B[39;00m:\n\u001B[0;32m--> 160\u001B[0m         attrs \u001B[38;5;241m=\u001B[39m \u001B[38;5;28;43mobject\u001B[39;49m\u001B[38;5;241;43m.\u001B[39;49m\u001B[38;5;21;43m__getattribute__\u001B[39;49m\u001B[43m(\u001B[49m\u001B[38;5;28;43mself\u001B[39;49m\u001B[43m,\u001B[49m\u001B[43m \u001B[49m\u001B[38;5;124;43m'\u001B[39;49m\u001B[38;5;124;43m__dict__\u001B[39;49m\u001B[38;5;124;43m'\u001B[39;49m\u001B[43m)\u001B[49m\n\u001B[1;32m    161\u001B[0m         \u001B[38;5;28;01mreturn\u001B[39;00m attrs[name]\n\u001B[1;32m    162\u001B[0m     \u001B[38;5;28;01mexcept\u001B[39;00m \u001B[38;5;167;01mKeyError\u001B[39;00m:\n",
      "\u001B[0;31mKeyboardInterrupt\u001B[0m: "
     ]
    }
   ],
   "execution_count": 43
  },
  {
   "metadata": {
    "ExecuteTime": {
     "end_time": "2025-02-18T14:51:46.623723Z",
     "start_time": "2025-02-17T20:59:57.900050Z"
    }
   },
   "cell_type": "code",
   "source": [
    "#KroA100 order_inversion\n",
    "kr = readFile(\"Dataset/kroA100.tsp\")\n",
    "best_path, best_fitness, history, duration = run_evolution_order_inversion(kr, num_generations=1000, mutation_rate=0.15, elite_pick=100, num_of_population=10000, crossover_rate=0.95)\n",
    "print(f\"\\nkroA100: \\nPath: {best_path}\\nTotal Distance: {best_fitness:.2f} with Ordered Crossover & Inversion Mutation\")\n",
    "plot_results(history, \"KroA100\")\n",
    "print(f\"Total Time Taken: {duration:.2f} seconds\")\n"
   ],
   "id": "8b73c018fc477d72",
   "outputs": [
    {
     "name": "stdout",
     "output_type": "stream",
     "text": [
      " Starting Genetic Algorithm\n",
      "-----------------------------\n",
      "Generation 10: Best Fitness = 101435.99 Mutation Rate = 0.15 Crossover Rate = 0.95\n",
      "Generation 20: Best Fitness = 88441.81 Mutation Rate = 0.15 Crossover Rate = 0.95\n",
      "Generation 30: Best Fitness = 77195.33 Mutation Rate = 0.15 Crossover Rate = 0.95\n",
      "Generation 40: Best Fitness = 66481.25 Mutation Rate = 0.15 Crossover Rate = 0.95\n",
      "Generation 50: Best Fitness = 58474.37 Mutation Rate = 0.15 Crossover Rate = 0.95\n",
      "Generation 60: Best Fitness = 54169.66 Mutation Rate = 0.15 Crossover Rate = 0.95\n",
      "Generation 70: Best Fitness = 49391.95 Mutation Rate = 0.15 Crossover Rate = 0.95\n",
      "Generation 80: Best Fitness = 45441.39 Mutation Rate = 0.15 Crossover Rate = 0.95\n",
      "Generation 90: Best Fitness = 42360.51 Mutation Rate = 0.15 Crossover Rate = 0.95\n",
      "Generation 100: Best Fitness = 41758.39 Mutation Rate = 0.15 Crossover Rate = 0.95\n",
      "Generation 110: Best Fitness = 40757.34 Mutation Rate = 0.15 Crossover Rate = 0.95\n",
      "Generation 120: Best Fitness = 39159.61 Mutation Rate = 0.15 Crossover Rate = 0.95\n",
      "Generation 130: Best Fitness = 38777.68 Mutation Rate = 0.15 Crossover Rate = 0.95\n",
      "Generation 140: Best Fitness = 38480.01 Mutation Rate = 0.15 Crossover Rate = 0.95\n",
      "Generation 150: Best Fitness = 35507.46 Mutation Rate = 0.15 Crossover Rate = 0.95\n",
      "Generation 160: Best Fitness = 35442.29 Mutation Rate = 0.15 Crossover Rate = 0.95\n",
      "Generation 170: Best Fitness = 35442.29 Mutation Rate = 0.35 Crossover Rate = 0.95\n",
      "Generation 180: Best Fitness = 35442.29 Mutation Rate = 0.81 Crossover Rate = 0.95\n",
      "Generation 190: Best Fitness = 34169.53 Mutation Rate = 0.98 Crossover Rate = 0.95\n",
      "Generation 200: Best Fitness = 32481.74 Mutation Rate = 0.94 Crossover Rate = 0.95\n",
      "Generation 210: Best Fitness = 31214.01 Mutation Rate = 0.90 Crossover Rate = 0.95\n",
      "Generation 220: Best Fitness = 29761.28 Mutation Rate = 0.86 Crossover Rate = 0.95\n",
      "Generation 230: Best Fitness = 28942.60 Mutation Rate = 0.82 Crossover Rate = 0.95\n",
      "Generation 240: Best Fitness = 28103.70 Mutation Rate = 0.78 Crossover Rate = 0.95\n",
      "Generation 250: Best Fitness = 27217.91 Mutation Rate = 0.74 Crossover Rate = 0.95\n",
      "Generation 260: Best Fitness = 27129.64 Mutation Rate = 0.75 Crossover Rate = 0.95\n",
      "Generation 270: Best Fitness = 27129.64 Mutation Rate = 0.96 Crossover Rate = 0.95\n",
      "Generation 280: Best Fitness = 26198.71 Mutation Rate = 0.96 Crossover Rate = 0.95\n",
      "Generation 290: Best Fitness = 25905.73 Mutation Rate = 0.92 Crossover Rate = 0.95\n",
      "Generation 300: Best Fitness = 25681.54 Mutation Rate = 0.88 Crossover Rate = 0.95\n",
      "Generation 310: Best Fitness = 25218.23 Mutation Rate = 0.98 Crossover Rate = 0.95\n",
      "Generation 320: Best Fitness = 25127.06 Mutation Rate = 0.94 Crossover Rate = 0.95\n",
      "Generation 330: Best Fitness = 24905.56 Mutation Rate = 0.90 Crossover Rate = 0.95\n"
     ]
    },
    {
     "ename": "KeyboardInterrupt",
     "evalue": "",
     "output_type": "error",
     "traceback": [
      "\u001B[0;31m---------------------------------------------------------------------------\u001B[0m",
      "\u001B[0;31mKeyboardInterrupt\u001B[0m                         Traceback (most recent call last)",
      "Cell \u001B[0;32mIn[57], line 3\u001B[0m\n\u001B[1;32m      1\u001B[0m \u001B[38;5;66;03m#KroA100 order_inversion\u001B[39;00m\n\u001B[1;32m      2\u001B[0m kr \u001B[38;5;241m=\u001B[39m readFile(\u001B[38;5;124m\"\u001B[39m\u001B[38;5;124mDataset/kroA100.tsp\u001B[39m\u001B[38;5;124m\"\u001B[39m)\n\u001B[0;32m----> 3\u001B[0m best_path, best_fitness, history, duration \u001B[38;5;241m=\u001B[39m \u001B[43mrun_evolution_order_inversion\u001B[49m\u001B[43m(\u001B[49m\u001B[43mkr\u001B[49m\u001B[43m,\u001B[49m\u001B[43m \u001B[49m\u001B[43mnum_generations\u001B[49m\u001B[38;5;241;43m=\u001B[39;49m\u001B[38;5;241;43m1000\u001B[39;49m\u001B[43m,\u001B[49m\u001B[43m \u001B[49m\u001B[43mmutation_rate\u001B[49m\u001B[38;5;241;43m=\u001B[39;49m\u001B[38;5;241;43m0.15\u001B[39;49m\u001B[43m,\u001B[49m\u001B[43m \u001B[49m\u001B[43melite_pick\u001B[49m\u001B[38;5;241;43m=\u001B[39;49m\u001B[38;5;241;43m100\u001B[39;49m\u001B[43m,\u001B[49m\u001B[43m \u001B[49m\u001B[43mnum_of_population\u001B[49m\u001B[38;5;241;43m=\u001B[39;49m\u001B[38;5;241;43m10000\u001B[39;49m\u001B[43m,\u001B[49m\u001B[43m \u001B[49m\u001B[43mcrossover_rate\u001B[49m\u001B[38;5;241;43m=\u001B[39;49m\u001B[38;5;241;43m0.95\u001B[39;49m\u001B[43m)\u001B[49m\n\u001B[1;32m      4\u001B[0m \u001B[38;5;28mprint\u001B[39m(\u001B[38;5;124mf\u001B[39m\u001B[38;5;124m\"\u001B[39m\u001B[38;5;130;01m\\n\u001B[39;00m\u001B[38;5;124mkroA100: \u001B[39m\u001B[38;5;130;01m\\n\u001B[39;00m\u001B[38;5;124mPath: \u001B[39m\u001B[38;5;132;01m{\u001B[39;00mbest_path\u001B[38;5;132;01m}\u001B[39;00m\u001B[38;5;130;01m\\n\u001B[39;00m\u001B[38;5;124mTotal Distance: \u001B[39m\u001B[38;5;132;01m{\u001B[39;00mbest_fitness\u001B[38;5;132;01m:\u001B[39;00m\u001B[38;5;124m.2f\u001B[39m\u001B[38;5;132;01m}\u001B[39;00m\u001B[38;5;124m with Ordered Crossover & Inversion Mutation\u001B[39m\u001B[38;5;124m\"\u001B[39m)\n\u001B[1;32m      5\u001B[0m plot_results(history, \u001B[38;5;124m\"\u001B[39m\u001B[38;5;124mKroA100\u001B[39m\u001B[38;5;124m\"\u001B[39m)\n",
      "Cell \u001B[0;32mIn[56], line 16\u001B[0m, in \u001B[0;36mrun_evolution_order_inversion\u001B[0;34m(berlin, num_generations, mutation_rate, elite_pick, num_of_population, crossover_rate)\u001B[0m\n\u001B[1;32m     14\u001B[0m mutated_offspring \u001B[38;5;241m=\u001B[39m inversion_mutation(offspring, mutation_rate)\n\u001B[1;32m     15\u001B[0m paths\u001B[38;5;241m.\u001B[39mextend(mutated_offspring)\n\u001B[0;32m---> 16\u001B[0m current_best \u001B[38;5;241m=\u001B[39m \u001B[38;5;28;43mmin\u001B[39;49m\u001B[43m(\u001B[49m\u001B[43mpaths\u001B[49m\u001B[43m,\u001B[49m\u001B[43m \u001B[49m\u001B[43mkey\u001B[49m\u001B[38;5;241;43m=\u001B[39;49m\u001B[38;5;28;43;01mlambda\u001B[39;49;00m\u001B[43m \u001B[49m\u001B[43mp\u001B[49m\u001B[43m:\u001B[49m\u001B[43m \u001B[49m\u001B[43mcalculate_total_path_distance\u001B[49m\u001B[43m(\u001B[49m\u001B[43mp\u001B[49m\u001B[43m,\u001B[49m\u001B[43m \u001B[49m\u001B[43mberlin\u001B[49m\u001B[43m)\u001B[49m\u001B[43m)\u001B[49m\n\u001B[1;32m     17\u001B[0m current_best_fitness \u001B[38;5;241m=\u001B[39m calculate_total_path_distance(current_best, berlin)\n\u001B[1;32m     19\u001B[0m  \u001B[38;5;66;03m# Check if there is an improvement\u001B[39;00m\n",
      "Cell \u001B[0;32mIn[56], line 16\u001B[0m, in \u001B[0;36mrun_evolution_order_inversion.<locals>.<lambda>\u001B[0;34m(p)\u001B[0m\n\u001B[1;32m     14\u001B[0m mutated_offspring \u001B[38;5;241m=\u001B[39m inversion_mutation(offspring, mutation_rate)\n\u001B[1;32m     15\u001B[0m paths\u001B[38;5;241m.\u001B[39mextend(mutated_offspring)\n\u001B[0;32m---> 16\u001B[0m current_best \u001B[38;5;241m=\u001B[39m \u001B[38;5;28mmin\u001B[39m(paths, key\u001B[38;5;241m=\u001B[39m\u001B[38;5;28;01mlambda\u001B[39;00m p: \u001B[43mcalculate_total_path_distance\u001B[49m\u001B[43m(\u001B[49m\u001B[43mp\u001B[49m\u001B[43m,\u001B[49m\u001B[43m \u001B[49m\u001B[43mberlin\u001B[49m\u001B[43m)\u001B[49m)\n\u001B[1;32m     17\u001B[0m current_best_fitness \u001B[38;5;241m=\u001B[39m calculate_total_path_distance(current_best, berlin)\n\u001B[1;32m     19\u001B[0m  \u001B[38;5;66;03m# Check if there is an improvement\u001B[39;00m\n",
      "Cell \u001B[0;32mIn[39], line 39\u001B[0m, in \u001B[0;36mcalculate_total_path_distance\u001B[0;34m(path, berlin)\u001B[0m\n\u001B[1;32m     36\u001B[0m     curr_point \u001B[38;5;241m=\u001B[39m berlin\u001B[38;5;241m.\u001B[39mnode_coords[curr_idx]\n\u001B[1;32m     38\u001B[0m     \u001B[38;5;66;03m# Calculate distance using numpy for stability\u001B[39;00m\n\u001B[0;32m---> 39\u001B[0m     distance \u001B[38;5;241m=\u001B[39m \u001B[38;5;28mfloat\u001B[39m(np\u001B[38;5;241m.\u001B[39msqrt(\u001B[43mnp\u001B[49m\u001B[38;5;241;43m.\u001B[39;49m\u001B[43msum\u001B[49m\u001B[43m(\u001B[49m\u001B[43m(\u001B[49m\u001B[43mnp\u001B[49m\u001B[38;5;241;43m.\u001B[39;49m\u001B[43marray\u001B[49m\u001B[43m(\u001B[49m\u001B[43mprev_point\u001B[49m\u001B[43m)\u001B[49m\u001B[43m \u001B[49m\u001B[38;5;241;43m-\u001B[39;49m\u001B[43m \u001B[49m\u001B[43mnp\u001B[49m\u001B[38;5;241;43m.\u001B[39;49m\u001B[43marray\u001B[49m\u001B[43m(\u001B[49m\u001B[43mcurr_point\u001B[49m\u001B[43m)\u001B[49m\u001B[43m)\u001B[49m\u001B[38;5;241;43m*\u001B[39;49m\u001B[38;5;241;43m*\u001B[39;49m\u001B[38;5;241;43m2\u001B[39;49m\u001B[43m)\u001B[49m))\n\u001B[1;32m     41\u001B[0m     total_distance \u001B[38;5;241m+\u001B[39m\u001B[38;5;241m=\u001B[39m distance\n\u001B[1;32m     43\u001B[0m \u001B[38;5;28;01mreturn\u001B[39;00m \u001B[38;5;28mround\u001B[39m(total_distance, \u001B[38;5;241m2\u001B[39m)\n",
      "File \u001B[0;32m~/TSP/TravellingSalesmanProblem/.venv/lib/python3.12/site-packages/numpy/_core/fromnumeric.py:2466\u001B[0m, in \u001B[0;36msum\u001B[0;34m(a, axis, dtype, out, keepdims, initial, where)\u001B[0m\n\u001B[1;32m   2463\u001B[0m         \u001B[38;5;28;01mreturn\u001B[39;00m out\n\u001B[1;32m   2464\u001B[0m     \u001B[38;5;28;01mreturn\u001B[39;00m res\n\u001B[0;32m-> 2466\u001B[0m \u001B[38;5;28;01mreturn\u001B[39;00m \u001B[43m_wrapreduction\u001B[49m\u001B[43m(\u001B[49m\n\u001B[1;32m   2467\u001B[0m \u001B[43m    \u001B[49m\u001B[43ma\u001B[49m\u001B[43m,\u001B[49m\u001B[43m \u001B[49m\u001B[43mnp\u001B[49m\u001B[38;5;241;43m.\u001B[39;49m\u001B[43madd\u001B[49m\u001B[43m,\u001B[49m\u001B[43m \u001B[49m\u001B[38;5;124;43m'\u001B[39;49m\u001B[38;5;124;43msum\u001B[39;49m\u001B[38;5;124;43m'\u001B[39;49m\u001B[43m,\u001B[49m\u001B[43m \u001B[49m\u001B[43maxis\u001B[49m\u001B[43m,\u001B[49m\u001B[43m \u001B[49m\u001B[43mdtype\u001B[49m\u001B[43m,\u001B[49m\u001B[43m \u001B[49m\u001B[43mout\u001B[49m\u001B[43m,\u001B[49m\n\u001B[1;32m   2468\u001B[0m \u001B[43m    \u001B[49m\u001B[43mkeepdims\u001B[49m\u001B[38;5;241;43m=\u001B[39;49m\u001B[43mkeepdims\u001B[49m\u001B[43m,\u001B[49m\u001B[43m \u001B[49m\u001B[43minitial\u001B[49m\u001B[38;5;241;43m=\u001B[39;49m\u001B[43minitial\u001B[49m\u001B[43m,\u001B[49m\u001B[43m \u001B[49m\u001B[43mwhere\u001B[49m\u001B[38;5;241;43m=\u001B[39;49m\u001B[43mwhere\u001B[49m\n\u001B[1;32m   2469\u001B[0m \u001B[43m\u001B[49m\u001B[43m)\u001B[49m\n",
      "File \u001B[0;32m~/TSP/TravellingSalesmanProblem/.venv/lib/python3.12/site-packages/numpy/_core/fromnumeric.py:86\u001B[0m, in \u001B[0;36m_wrapreduction\u001B[0;34m(obj, ufunc, method, axis, dtype, out, **kwargs)\u001B[0m\n\u001B[1;32m     83\u001B[0m         \u001B[38;5;28;01melse\u001B[39;00m:\n\u001B[1;32m     84\u001B[0m             \u001B[38;5;28;01mreturn\u001B[39;00m reduction(axis\u001B[38;5;241m=\u001B[39maxis, out\u001B[38;5;241m=\u001B[39mout, \u001B[38;5;241m*\u001B[39m\u001B[38;5;241m*\u001B[39mpasskwargs)\n\u001B[0;32m---> 86\u001B[0m \u001B[38;5;28;01mreturn\u001B[39;00m \u001B[43mufunc\u001B[49m\u001B[38;5;241;43m.\u001B[39;49m\u001B[43mreduce\u001B[49m\u001B[43m(\u001B[49m\u001B[43mobj\u001B[49m\u001B[43m,\u001B[49m\u001B[43m \u001B[49m\u001B[43maxis\u001B[49m\u001B[43m,\u001B[49m\u001B[43m \u001B[49m\u001B[43mdtype\u001B[49m\u001B[43m,\u001B[49m\u001B[43m \u001B[49m\u001B[43mout\u001B[49m\u001B[43m,\u001B[49m\u001B[43m \u001B[49m\u001B[38;5;241;43m*\u001B[39;49m\u001B[38;5;241;43m*\u001B[39;49m\u001B[43mpasskwargs\u001B[49m\u001B[43m)\u001B[49m\n",
      "\u001B[0;31mKeyboardInterrupt\u001B[0m: "
     ]
    }
   ],
   "execution_count": 57
  },
  {
   "metadata": {
    "ExecuteTime": {
     "end_time": "2025-02-18T14:51:46.626150Z",
     "start_time": "2025-02-18T00:58:04.746497Z"
    }
   },
   "cell_type": "code",
   "source": [
    "#Pr1002 order_inversion\n",
    "pr = readFile(\"Dataset/pr1002.tsp\")\n",
    "best_path, best_fitness, history, duration = run_evolution_order_inversion(pr, num_generations=1000, mutation_rate=0.25, elite_pick=25, num_of_population=100, crossover_rate=0.85)\n",
    "print(f\"\\nPr1002: \\nPath: {best_path}\\nTotal Distance: {best_fitness:.2f} with Ordered Crossover & Inversion Mutation\")\n",
    "plot_results(history, \"Pr1002\")\n",
    "print(f\"Total Time Taken: {duration:.2f} seconds\")\n"
   ],
   "id": "bf7b82abeeb12e23",
   "outputs": [
    {
     "name": "stdout",
     "output_type": "stream",
     "text": [
      " Starting Genetic Algorithm\n",
      "-----------------------------\n",
      "Generation 10: Best Fitness = 6075015.97 Mutation Rate = 0.25 Crossover Rate = 0.85\n",
      "Generation 20: Best Fitness = 5962640.35 Mutation Rate = 0.25 Crossover Rate = 0.85\n",
      "Generation 30: Best Fitness = 5853382.55 Mutation Rate = 0.25 Crossover Rate = 0.85\n",
      "Generation 40: Best Fitness = 5727980.58 Mutation Rate = 0.25 Crossover Rate = 0.85\n",
      "Generation 50: Best Fitness = 5626419.33 Mutation Rate = 0.25 Crossover Rate = 0.85\n",
      "Generation 60: Best Fitness = 5520693.53 Mutation Rate = 0.25 Crossover Rate = 0.85\n",
      "Generation 70: Best Fitness = 5427235.88 Mutation Rate = 0.25 Crossover Rate = 0.85\n",
      "Generation 80: Best Fitness = 5329173.35 Mutation Rate = 0.25 Crossover Rate = 0.85\n",
      "Generation 90: Best Fitness = 5225397.64 Mutation Rate = 0.25 Crossover Rate = 0.85\n",
      "Generation 100: Best Fitness = 5152385.80 Mutation Rate = 0.25 Crossover Rate = 0.85\n",
      "Generation 110: Best Fitness = 5063827.99 Mutation Rate = 0.25 Crossover Rate = 0.85\n",
      "Generation 120: Best Fitness = 4993284.57 Mutation Rate = 0.25 Crossover Rate = 0.85\n",
      "Generation 130: Best Fitness = 4906416.19 Mutation Rate = 0.25 Crossover Rate = 0.85\n",
      "Generation 140: Best Fitness = 4791907.99 Mutation Rate = 0.25 Crossover Rate = 0.85\n",
      "Generation 150: Best Fitness = 4703384.21 Mutation Rate = 0.25 Crossover Rate = 0.85\n",
      "Generation 160: Best Fitness = 4637545.31 Mutation Rate = 0.25 Crossover Rate = 0.85\n",
      "Generation 170: Best Fitness = 4579676.28 Mutation Rate = 0.25 Crossover Rate = 0.85\n",
      "Generation 180: Best Fitness = 4531767.73 Mutation Rate = 0.25 Crossover Rate = 0.85\n",
      "Generation 190: Best Fitness = 4458055.73 Mutation Rate = 0.25 Crossover Rate = 0.85\n",
      "Generation 200: Best Fitness = 4387949.98 Mutation Rate = 0.25 Crossover Rate = 0.85\n",
      "Generation 210: Best Fitness = 4328483.29 Mutation Rate = 0.25 Crossover Rate = 0.85\n",
      "Generation 220: Best Fitness = 4265999.71 Mutation Rate = 0.25 Crossover Rate = 0.85\n",
      "Generation 230: Best Fitness = 4233058.52 Mutation Rate = 0.25 Crossover Rate = 0.85\n",
      "Generation 240: Best Fitness = 4181425.98 Mutation Rate = 0.25 Crossover Rate = 0.85\n",
      "Generation 250: Best Fitness = 4155474.73 Mutation Rate = 0.25 Crossover Rate = 0.85\n",
      "Generation 260: Best Fitness = 4082611.71 Mutation Rate = 0.25 Crossover Rate = 0.85\n",
      "Generation 270: Best Fitness = 4030777.63 Mutation Rate = 0.25 Crossover Rate = 0.85\n",
      "Generation 280: Best Fitness = 3966416.11 Mutation Rate = 0.25 Crossover Rate = 0.85\n",
      "Generation 290: Best Fitness = 3929298.09 Mutation Rate = 0.25 Crossover Rate = 0.85\n",
      "Generation 300: Best Fitness = 3896438.80 Mutation Rate = 0.25 Crossover Rate = 0.85\n",
      "Generation 310: Best Fitness = 3857135.61 Mutation Rate = 0.25 Crossover Rate = 0.85\n",
      "Generation 320: Best Fitness = 3825631.03 Mutation Rate = 0.25 Crossover Rate = 0.85\n",
      "Generation 330: Best Fitness = 3802377.95 Mutation Rate = 0.25 Crossover Rate = 0.85\n",
      "Generation 340: Best Fitness = 3771689.72 Mutation Rate = 0.25 Crossover Rate = 0.85\n",
      "Generation 350: Best Fitness = 3727538.81 Mutation Rate = 0.25 Crossover Rate = 0.85\n",
      "Generation 360: Best Fitness = 3690221.24 Mutation Rate = 0.25 Crossover Rate = 0.85\n",
      "Generation 370: Best Fitness = 3667273.45 Mutation Rate = 0.25 Crossover Rate = 0.85\n",
      "Generation 380: Best Fitness = 3649473.35 Mutation Rate = 0.25 Crossover Rate = 0.85\n",
      "Generation 390: Best Fitness = 3615118.18 Mutation Rate = 0.25 Crossover Rate = 0.85\n",
      "Generation 400: Best Fitness = 3589832.07 Mutation Rate = 0.25 Crossover Rate = 0.85\n",
      "Generation 410: Best Fitness = 3562082.07 Mutation Rate = 0.25 Crossover Rate = 0.85\n",
      "Generation 420: Best Fitness = 3519854.04 Mutation Rate = 0.25 Crossover Rate = 0.85\n",
      "Generation 430: Best Fitness = 3485860.06 Mutation Rate = 0.25 Crossover Rate = 0.85\n",
      "Generation 440: Best Fitness = 3459807.61 Mutation Rate = 0.25 Crossover Rate = 0.85\n",
      "Generation 450: Best Fitness = 3444808.82 Mutation Rate = 0.25 Crossover Rate = 0.85\n",
      "Generation 460: Best Fitness = 3419513.88 Mutation Rate = 0.25 Crossover Rate = 0.85\n",
      "Generation 470: Best Fitness = 3389952.71 Mutation Rate = 0.25 Crossover Rate = 0.85\n",
      "Generation 480: Best Fitness = 3364207.75 Mutation Rate = 0.25 Crossover Rate = 0.85\n",
      "Generation 490: Best Fitness = 3347026.93 Mutation Rate = 0.25 Crossover Rate = 0.85\n",
      "Generation 500: Best Fitness = 3326942.20 Mutation Rate = 0.25 Crossover Rate = 0.85\n",
      "Generation 510: Best Fitness = 3312067.42 Mutation Rate = 0.25 Crossover Rate = 0.85\n",
      "Generation 520: Best Fitness = 3295890.24 Mutation Rate = 0.25 Crossover Rate = 0.85\n",
      "Generation 530: Best Fitness = 3271139.18 Mutation Rate = 0.25 Crossover Rate = 0.85\n",
      "Generation 540: Best Fitness = 3245054.66 Mutation Rate = 0.25 Crossover Rate = 0.85\n",
      "Generation 550: Best Fitness = 3218571.38 Mutation Rate = 0.25 Crossover Rate = 0.85\n",
      "Generation 560: Best Fitness = 3211835.11 Mutation Rate = 0.25 Crossover Rate = 0.85\n",
      "Generation 570: Best Fitness = 3172084.79 Mutation Rate = 0.25 Crossover Rate = 0.85\n",
      "Generation 580: Best Fitness = 3139980.14 Mutation Rate = 0.25 Crossover Rate = 0.85\n",
      "Generation 590: Best Fitness = 3133514.33 Mutation Rate = 0.25 Crossover Rate = 0.85\n",
      "Generation 600: Best Fitness = 3111175.90 Mutation Rate = 0.25 Crossover Rate = 0.85\n",
      "Generation 610: Best Fitness = 3092803.40 Mutation Rate = 0.25 Crossover Rate = 0.85\n",
      "Generation 620: Best Fitness = 3055409.74 Mutation Rate = 0.25 Crossover Rate = 0.85\n",
      "Generation 630: Best Fitness = 3028757.57 Mutation Rate = 0.25 Crossover Rate = 0.85\n",
      "Generation 640: Best Fitness = 2996669.94 Mutation Rate = 0.25 Crossover Rate = 0.85\n",
      "Generation 650: Best Fitness = 2965313.91 Mutation Rate = 0.25 Crossover Rate = 0.85\n",
      "Generation 660: Best Fitness = 2957187.78 Mutation Rate = 0.25 Crossover Rate = 0.85\n",
      "Generation 670: Best Fitness = 2946466.08 Mutation Rate = 0.25 Crossover Rate = 0.85\n",
      "Generation 680: Best Fitness = 2922800.99 Mutation Rate = 0.25 Crossover Rate = 0.85\n",
      "Generation 690: Best Fitness = 2911165.03 Mutation Rate = 0.25 Crossover Rate = 0.85\n",
      "Generation 700: Best Fitness = 2908657.53 Mutation Rate = 0.25 Crossover Rate = 0.85\n",
      "Generation 710: Best Fitness = 2887401.79 Mutation Rate = 0.25 Crossover Rate = 0.85\n",
      "Generation 720: Best Fitness = 2872068.82 Mutation Rate = 0.25 Crossover Rate = 0.85\n",
      "Generation 730: Best Fitness = 2857790.55 Mutation Rate = 0.25 Crossover Rate = 0.85\n",
      "Generation 740: Best Fitness = 2845312.07 Mutation Rate = 0.25 Crossover Rate = 0.85\n",
      "Generation 750: Best Fitness = 2842815.64 Mutation Rate = 0.25 Crossover Rate = 0.85\n"
     ]
    },
    {
     "ename": "KeyboardInterrupt",
     "evalue": "",
     "output_type": "error",
     "traceback": [
      "\u001B[0;31m---------------------------------------------------------------------------\u001B[0m",
      "\u001B[0;31mKeyboardInterrupt\u001B[0m                         Traceback (most recent call last)",
      "Cell \u001B[0;32mIn[58], line 3\u001B[0m\n\u001B[1;32m      1\u001B[0m \u001B[38;5;66;03m#Pr1002 order_inversion\u001B[39;00m\n\u001B[1;32m      2\u001B[0m pr \u001B[38;5;241m=\u001B[39m readFile(\u001B[38;5;124m\"\u001B[39m\u001B[38;5;124mDataset/pr1002.tsp\u001B[39m\u001B[38;5;124m\"\u001B[39m)\n\u001B[0;32m----> 3\u001B[0m best_path, best_fitness, history, duration \u001B[38;5;241m=\u001B[39m \u001B[43mrun_evolution_order_inversion\u001B[49m\u001B[43m(\u001B[49m\u001B[43mpr\u001B[49m\u001B[43m,\u001B[49m\u001B[43m \u001B[49m\u001B[43mnum_generations\u001B[49m\u001B[38;5;241;43m=\u001B[39;49m\u001B[38;5;241;43m1000\u001B[39;49m\u001B[43m,\u001B[49m\u001B[43m \u001B[49m\u001B[43mmutation_rate\u001B[49m\u001B[38;5;241;43m=\u001B[39;49m\u001B[38;5;241;43m0.25\u001B[39;49m\u001B[43m,\u001B[49m\u001B[43m \u001B[49m\u001B[43melite_pick\u001B[49m\u001B[38;5;241;43m=\u001B[39;49m\u001B[38;5;241;43m25\u001B[39;49m\u001B[43m,\u001B[49m\u001B[43m \u001B[49m\u001B[43mnum_of_population\u001B[49m\u001B[38;5;241;43m=\u001B[39;49m\u001B[38;5;241;43m100\u001B[39;49m\u001B[43m,\u001B[49m\u001B[43m \u001B[49m\u001B[43mcrossover_rate\u001B[49m\u001B[38;5;241;43m=\u001B[39;49m\u001B[38;5;241;43m0.85\u001B[39;49m\u001B[43m)\u001B[49m\n\u001B[1;32m      4\u001B[0m \u001B[38;5;28mprint\u001B[39m(\u001B[38;5;124mf\u001B[39m\u001B[38;5;124m\"\u001B[39m\u001B[38;5;130;01m\\n\u001B[39;00m\u001B[38;5;124mPr1002: \u001B[39m\u001B[38;5;130;01m\\n\u001B[39;00m\u001B[38;5;124mPath: \u001B[39m\u001B[38;5;132;01m{\u001B[39;00mbest_path\u001B[38;5;132;01m}\u001B[39;00m\u001B[38;5;130;01m\\n\u001B[39;00m\u001B[38;5;124mTotal Distance: \u001B[39m\u001B[38;5;132;01m{\u001B[39;00mbest_fitness\u001B[38;5;132;01m:\u001B[39;00m\u001B[38;5;124m.2f\u001B[39m\u001B[38;5;132;01m}\u001B[39;00m\u001B[38;5;124m with Ordered Crossover & Inversion Mutation\u001B[39m\u001B[38;5;124m\"\u001B[39m)\n\u001B[1;32m      5\u001B[0m plot_results(history, \u001B[38;5;124m\"\u001B[39m\u001B[38;5;124mPr1002\u001B[39m\u001B[38;5;124m\"\u001B[39m)\n",
      "Cell \u001B[0;32mIn[56], line 12\u001B[0m, in \u001B[0;36mrun_evolution_order_inversion\u001B[0;34m(berlin, num_generations, mutation_rate, elite_pick, num_of_population, crossover_rate)\u001B[0m\n\u001B[1;32m      9\u001B[0m no_improvement_count \u001B[38;5;241m=\u001B[39m \u001B[38;5;241m0\u001B[39m  \u001B[38;5;66;03m# Track consecutive stagnation generations\u001B[39;00m\n\u001B[1;32m     11\u001B[0m \u001B[38;5;28;01mfor\u001B[39;00m generation \u001B[38;5;129;01min\u001B[39;00m \u001B[38;5;28mrange\u001B[39m(num_generations):\n\u001B[0;32m---> 12\u001B[0m     elite \u001B[38;5;241m=\u001B[39m \u001B[43melitism\u001B[49m\u001B[43m(\u001B[49m\u001B[43mpaths\u001B[49m\u001B[43m,\u001B[49m\u001B[43m \u001B[49m\u001B[43mberlin\u001B[49m\u001B[43m,\u001B[49m\u001B[43m \u001B[49m\u001B[43melite_pick\u001B[49m\u001B[43m)\u001B[49m\n\u001B[1;32m     13\u001B[0m     offspring \u001B[38;5;241m=\u001B[39m [order_crossover(elite[i \u001B[38;5;241m%\u001B[39m \u001B[38;5;241m2\u001B[39m], elite[(i \u001B[38;5;241m+\u001B[39m \u001B[38;5;241m1\u001B[39m) \u001B[38;5;241m%\u001B[39m \u001B[38;5;241m2\u001B[39m], crossover_rate) \u001B[38;5;28;01mfor\u001B[39;00m i \u001B[38;5;129;01min\u001B[39;00m \u001B[38;5;28mrange\u001B[39m(\u001B[38;5;28mlen\u001B[39m(elite))]\n\u001B[1;32m     14\u001B[0m     mutated_offspring \u001B[38;5;241m=\u001B[39m inversion_mutation(offspring, mutation_rate)\n",
      "Cell \u001B[0;32mIn[40], line 2\u001B[0m, in \u001B[0;36melitism\u001B[0;34m(paths, berlin, elite_pick)\u001B[0m\n\u001B[1;32m      1\u001B[0m \u001B[38;5;28;01mdef\u001B[39;00m\u001B[38;5;250m \u001B[39m\u001B[38;5;21melitism\u001B[39m(paths, berlin, elite_pick):\n\u001B[0;32m----> 2\u001B[0m     paths_total_distance \u001B[38;5;241m=\u001B[39m {\u001B[43mcalculate_total_path_distance\u001B[49m\u001B[43m(\u001B[49m\u001B[43mpath\u001B[49m\u001B[43m,\u001B[49m\u001B[43m \u001B[49m\u001B[43mberlin\u001B[49m\u001B[43m)\u001B[49m: path \u001B[38;5;28;01mfor\u001B[39;00m path \u001B[38;5;129;01min\u001B[39;00m paths} \u001B[38;5;66;03m# For all paths calculate their fitness score\u001B[39;00m\n\u001B[1;32m      3\u001B[0m     elitism_path \u001B[38;5;241m=\u001B[39m \u001B[38;5;28msorted\u001B[39m(paths_total_distance\u001B[38;5;241m.\u001B[39mitems(), key\u001B[38;5;241m=\u001B[39m\u001B[38;5;28;01mlambda\u001B[39;00m x: x[\u001B[38;5;241m0\u001B[39m]) \u001B[38;5;66;03m# Sort the best paths by their distance score (Fitness score)\u001B[39;00m\n\u001B[1;32m      4\u001B[0m     \u001B[38;5;28;01mreturn\u001B[39;00m [path[\u001B[38;5;241m1\u001B[39m] \u001B[38;5;28;01mfor\u001B[39;00m path \u001B[38;5;129;01min\u001B[39;00m elitism_path[:elite_pick]]\n",
      "Cell \u001B[0;32mIn[39], line 39\u001B[0m, in \u001B[0;36mcalculate_total_path_distance\u001B[0;34m(path, berlin)\u001B[0m\n\u001B[1;32m     36\u001B[0m     curr_point \u001B[38;5;241m=\u001B[39m berlin\u001B[38;5;241m.\u001B[39mnode_coords[curr_idx]\n\u001B[1;32m     38\u001B[0m     \u001B[38;5;66;03m# Calculate distance using numpy for stability\u001B[39;00m\n\u001B[0;32m---> 39\u001B[0m     distance \u001B[38;5;241m=\u001B[39m \u001B[38;5;28mfloat\u001B[39m(np\u001B[38;5;241m.\u001B[39msqrt(np\u001B[38;5;241m.\u001B[39msum((\u001B[43mnp\u001B[49m\u001B[38;5;241;43m.\u001B[39;49m\u001B[43marray\u001B[49m\u001B[43m(\u001B[49m\u001B[43mprev_point\u001B[49m\u001B[43m)\u001B[49m \u001B[38;5;241m-\u001B[39m np\u001B[38;5;241m.\u001B[39marray(curr_point))\u001B[38;5;241m*\u001B[39m\u001B[38;5;241m*\u001B[39m\u001B[38;5;241m2\u001B[39m)))\n\u001B[1;32m     41\u001B[0m     total_distance \u001B[38;5;241m+\u001B[39m\u001B[38;5;241m=\u001B[39m distance\n\u001B[1;32m     43\u001B[0m \u001B[38;5;28;01mreturn\u001B[39;00m \u001B[38;5;28mround\u001B[39m(total_distance, \u001B[38;5;241m2\u001B[39m)\n",
      "\u001B[0;31mKeyboardInterrupt\u001B[0m: "
     ]
    }
   ],
   "execution_count": 58
  },
  {
   "metadata": {
    "ExecuteTime": {
     "end_time": "2025-02-18T14:51:46.656756Z",
     "start_time": "2025-02-18T14:06:00.051400Z"
    }
   },
   "cell_type": "code",
   "source": [
    "#Pr1002 order_mutation\n",
    "pr = readFile(\"Dataset/pr1002.tsp\")\n",
    "best_path, best_fitness, history, duration = run_evolution_crossover_mutation(pr, num_generations=1500, mutation_rate=0.1, elite_pick=25, num_of_population=100, crossover_rate=0.95)\n",
    "print(f\"\\nPr1002: \\nPath: {best_path}\\nTotal Distance: {best_fitness:.2f} with Crossover & Swap Mutation\")\n",
    "plot_results(history, \"Pr1002\")\n",
    "print(f\"Total Time Taken: {duration:.2f} seconds\")\n"
   ],
   "id": "10f2e858fe771487",
   "outputs": [
    {
     "name": "stdout",
     "output_type": "stream",
     "text": [
      " Starting Genetic Algorithm\n",
      "-----------------------------\n",
      "Generation 10: Best Fitness = 5953914.01 Mutation Rate = 0.10 Crossover Rate = 0.95\n",
      "Generation 20: Best Fitness = 5820585.28 Mutation Rate = 0.10 Crossover Rate = 0.95\n"
     ]
    },
    {
     "ename": "KeyboardInterrupt",
     "evalue": "",
     "output_type": "error",
     "traceback": [
      "\u001B[0;31m---------------------------------------------------------------------------\u001B[0m",
      "\u001B[0;31mKeyboardInterrupt\u001B[0m                         Traceback (most recent call last)",
      "Cell \u001B[0;32mIn[27], line 3\u001B[0m\n\u001B[1;32m      1\u001B[0m \u001B[38;5;66;03m#Pr1002 order_mutation\u001B[39;00m\n\u001B[1;32m      2\u001B[0m pr \u001B[38;5;241m=\u001B[39m readFile(\u001B[38;5;124m\"\u001B[39m\u001B[38;5;124mDataset/pr1002.tsp\u001B[39m\u001B[38;5;124m\"\u001B[39m)\n\u001B[0;32m----> 3\u001B[0m best_path, best_fitness, history, duration \u001B[38;5;241m=\u001B[39m \u001B[43mrun_evolution_crossover_mutation\u001B[49m\u001B[43m(\u001B[49m\u001B[43mpr\u001B[49m\u001B[43m,\u001B[49m\u001B[43m \u001B[49m\u001B[43mnum_generations\u001B[49m\u001B[38;5;241;43m=\u001B[39;49m\u001B[38;5;241;43m1500\u001B[39;49m\u001B[43m,\u001B[49m\u001B[43m \u001B[49m\u001B[43mmutation_rate\u001B[49m\u001B[38;5;241;43m=\u001B[39;49m\u001B[38;5;241;43m0.1\u001B[39;49m\u001B[43m,\u001B[49m\u001B[43m \u001B[49m\u001B[43melite_pick\u001B[49m\u001B[38;5;241;43m=\u001B[39;49m\u001B[38;5;241;43m25\u001B[39;49m\u001B[43m,\u001B[49m\u001B[43m \u001B[49m\u001B[43mnum_of_population\u001B[49m\u001B[38;5;241;43m=\u001B[39;49m\u001B[38;5;241;43m100\u001B[39;49m\u001B[43m,\u001B[49m\u001B[43m \u001B[49m\u001B[43mcrossover_rate\u001B[49m\u001B[38;5;241;43m=\u001B[39;49m\u001B[38;5;241;43m0.95\u001B[39;49m\u001B[43m)\u001B[49m\n\u001B[1;32m      4\u001B[0m \u001B[38;5;28mprint\u001B[39m(\u001B[38;5;124mf\u001B[39m\u001B[38;5;124m\"\u001B[39m\u001B[38;5;130;01m\\n\u001B[39;00m\u001B[38;5;124mPr1002: \u001B[39m\u001B[38;5;130;01m\\n\u001B[39;00m\u001B[38;5;124mPath: \u001B[39m\u001B[38;5;132;01m{\u001B[39;00mbest_path\u001B[38;5;132;01m}\u001B[39;00m\u001B[38;5;130;01m\\n\u001B[39;00m\u001B[38;5;124mTotal Distance: \u001B[39m\u001B[38;5;132;01m{\u001B[39;00mbest_fitness\u001B[38;5;132;01m:\u001B[39;00m\u001B[38;5;124m.2f\u001B[39m\u001B[38;5;132;01m}\u001B[39;00m\u001B[38;5;124m with Crossover & Swap Mutation\u001B[39m\u001B[38;5;124m\"\u001B[39m)\n\u001B[1;32m      5\u001B[0m plot_results(history, \u001B[38;5;124m\"\u001B[39m\u001B[38;5;124mPr1002\u001B[39m\u001B[38;5;124m\"\u001B[39m)\n",
      "Cell \u001B[0;32mIn[25], line 15\u001B[0m, in \u001B[0;36mrun_evolution_crossover_mutation\u001B[0;34m(berlin, num_generations, mutation_rate, elite_pick, num_of_population, crossover_rate)\u001B[0m\n\u001B[1;32m     12\u001B[0m no_improvement_count \u001B[38;5;241m=\u001B[39m \u001B[38;5;241m0\u001B[39m  \u001B[38;5;66;03m# Track consecutive stagnation generations\u001B[39;00m\n\u001B[1;32m     14\u001B[0m \u001B[38;5;28;01mfor\u001B[39;00m generation \u001B[38;5;129;01min\u001B[39;00m \u001B[38;5;28mrange\u001B[39m(num_generations):\n\u001B[0;32m---> 15\u001B[0m     elite \u001B[38;5;241m=\u001B[39m \u001B[43melitism\u001B[49m\u001B[43m(\u001B[49m\u001B[43mpaths\u001B[49m\u001B[43m,\u001B[49m\u001B[43m \u001B[49m\u001B[43mberlin\u001B[49m\u001B[43m,\u001B[49m\u001B[43m \u001B[49m\u001B[43melite_pick\u001B[49m\u001B[43m)\u001B[49m \u001B[38;5;66;03m# get the best paths \u001B[39;00m\n\u001B[1;32m     16\u001B[0m     offspring \u001B[38;5;241m=\u001B[39m [crossover(elite[i \u001B[38;5;241m%\u001B[39m \u001B[38;5;241m2\u001B[39m], elite[(i \u001B[38;5;241m+\u001B[39m \u001B[38;5;241m1\u001B[39m) \u001B[38;5;241m%\u001B[39m \u001B[38;5;241m2\u001B[39m],crossover_rate) \u001B[38;5;28;01mfor\u001B[39;00m i \u001B[38;5;129;01min\u001B[39;00m \u001B[38;5;28mrange\u001B[39m(\u001B[38;5;28mlen\u001B[39m(elite))] \u001B[38;5;66;03m# It loops over the elite list and selects two parents at a time.\u001B[39;00m\n\u001B[1;32m     17\u001B[0m     mutated_offspring \u001B[38;5;241m=\u001B[39m swap_mutation(offspring, mutation_rate) \u001B[38;5;66;03m# Mutate the offspring of crossover \u001B[39;00m\n",
      "Cell \u001B[0;32mIn[4], line 2\u001B[0m, in \u001B[0;36melitism\u001B[0;34m(paths, berlin, elite_pick)\u001B[0m\n\u001B[1;32m      1\u001B[0m \u001B[38;5;28;01mdef\u001B[39;00m\u001B[38;5;250m \u001B[39m\u001B[38;5;21melitism\u001B[39m(paths, berlin, elite_pick):\n\u001B[0;32m----> 2\u001B[0m     paths_total_distance \u001B[38;5;241m=\u001B[39m {\u001B[43mcalculate_total_path_distance\u001B[49m\u001B[43m(\u001B[49m\u001B[43mpath\u001B[49m\u001B[43m,\u001B[49m\u001B[43m \u001B[49m\u001B[43mberlin\u001B[49m\u001B[43m)\u001B[49m: path \u001B[38;5;28;01mfor\u001B[39;00m path \u001B[38;5;129;01min\u001B[39;00m paths} \u001B[38;5;66;03m# For all paths calculate their fitness score\u001B[39;00m\n\u001B[1;32m      3\u001B[0m     elitism_path \u001B[38;5;241m=\u001B[39m \u001B[38;5;28msorted\u001B[39m(paths_total_distance\u001B[38;5;241m.\u001B[39mitems(), key\u001B[38;5;241m=\u001B[39m\u001B[38;5;28;01mlambda\u001B[39;00m x: x[\u001B[38;5;241m0\u001B[39m]) \u001B[38;5;66;03m# Sort the best paths by their distance score (Fitness score)\u001B[39;00m\n\u001B[1;32m      4\u001B[0m     \u001B[38;5;28;01mreturn\u001B[39;00m [path[\u001B[38;5;241m1\u001B[39m] \u001B[38;5;28;01mfor\u001B[39;00m path \u001B[38;5;129;01min\u001B[39;00m elitism_path[:elite_pick]]\n",
      "Cell \u001B[0;32mIn[3], line 38\u001B[0m, in \u001B[0;36mcalculate_total_path_distance\u001B[0;34m(path, berlin)\u001B[0m\n\u001B[1;32m     35\u001B[0m     curr_point \u001B[38;5;241m=\u001B[39m berlin\u001B[38;5;241m.\u001B[39mnode_coords[curr_idx] \u001B[38;5;66;03m# Get current node coords\u001B[39;00m\n\u001B[1;32m     37\u001B[0m     \u001B[38;5;66;03m# Calculate distance using numpy\u001B[39;00m\n\u001B[0;32m---> 38\u001B[0m     distance \u001B[38;5;241m=\u001B[39m \u001B[38;5;28mfloat\u001B[39m(np\u001B[38;5;241m.\u001B[39msqrt(\u001B[43mnp\u001B[49m\u001B[38;5;241;43m.\u001B[39;49m\u001B[43msum\u001B[49m\u001B[43m(\u001B[49m\u001B[43m(\u001B[49m\u001B[43mnp\u001B[49m\u001B[38;5;241;43m.\u001B[39;49m\u001B[43marray\u001B[49m\u001B[43m(\u001B[49m\u001B[43mprev_point\u001B[49m\u001B[43m)\u001B[49m\u001B[43m \u001B[49m\u001B[38;5;241;43m-\u001B[39;49m\u001B[43m \u001B[49m\u001B[43mnp\u001B[49m\u001B[38;5;241;43m.\u001B[39;49m\u001B[43marray\u001B[49m\u001B[43m(\u001B[49m\u001B[43mcurr_point\u001B[49m\u001B[43m)\u001B[49m\u001B[43m)\u001B[49m\u001B[38;5;241;43m*\u001B[39;49m\u001B[38;5;241;43m*\u001B[39;49m\u001B[38;5;241;43m2\u001B[39;49m\u001B[43m)\u001B[49m))\n\u001B[1;32m     40\u001B[0m     total_distance \u001B[38;5;241m+\u001B[39m\u001B[38;5;241m=\u001B[39m distance\n\u001B[1;32m     42\u001B[0m \u001B[38;5;28;01mreturn\u001B[39;00m \u001B[38;5;28mround\u001B[39m(total_distance, \u001B[38;5;241m2\u001B[39m)\n",
      "File \u001B[0;32m~/TSP/TravellingSalesmanProblem/.venv/lib/python3.12/site-packages/numpy/_core/fromnumeric.py:2333\u001B[0m, in \u001B[0;36m_sum_dispatcher\u001B[0;34m(a, axis, dtype, out, keepdims, initial, where)\u001B[0m\n\u001B[1;32m   2327\u001B[0m         \u001B[38;5;28;01mraise\u001B[39;00m \u001B[38;5;167;01mValueError\u001B[39;00m(\u001B[38;5;124m\"\u001B[39m\u001B[38;5;124mPassing `min` or `max` keyword argument when \u001B[39m\u001B[38;5;124m\"\u001B[39m\n\u001B[1;32m   2328\u001B[0m                          \u001B[38;5;124m\"\u001B[39m\u001B[38;5;124m`a_min` and `a_max` are provided is forbidden.\u001B[39m\u001B[38;5;124m\"\u001B[39m)\n\u001B[1;32m   2330\u001B[0m     \u001B[38;5;28;01mreturn\u001B[39;00m _wrapfunc(a, \u001B[38;5;124m'\u001B[39m\u001B[38;5;124mclip\u001B[39m\u001B[38;5;124m'\u001B[39m, a_min, a_max, out\u001B[38;5;241m=\u001B[39mout, \u001B[38;5;241m*\u001B[39m\u001B[38;5;241m*\u001B[39mkwargs)\n\u001B[0;32m-> 2333\u001B[0m \u001B[38;5;28;01mdef\u001B[39;00m\u001B[38;5;250m \u001B[39m\u001B[38;5;21m_sum_dispatcher\u001B[39m(a, axis\u001B[38;5;241m=\u001B[39m\u001B[38;5;28;01mNone\u001B[39;00m, dtype\u001B[38;5;241m=\u001B[39m\u001B[38;5;28;01mNone\u001B[39;00m, out\u001B[38;5;241m=\u001B[39m\u001B[38;5;28;01mNone\u001B[39;00m, keepdims\u001B[38;5;241m=\u001B[39m\u001B[38;5;28;01mNone\u001B[39;00m,\n\u001B[1;32m   2334\u001B[0m                     initial\u001B[38;5;241m=\u001B[39m\u001B[38;5;28;01mNone\u001B[39;00m, where\u001B[38;5;241m=\u001B[39m\u001B[38;5;28;01mNone\u001B[39;00m):\n\u001B[1;32m   2335\u001B[0m     \u001B[38;5;28;01mreturn\u001B[39;00m (a, out)\n\u001B[1;32m   2338\u001B[0m \u001B[38;5;129m@array_function_dispatch\u001B[39m(_sum_dispatcher)\n\u001B[1;32m   2339\u001B[0m \u001B[38;5;28;01mdef\u001B[39;00m\u001B[38;5;250m \u001B[39m\u001B[38;5;21msum\u001B[39m(a, axis\u001B[38;5;241m=\u001B[39m\u001B[38;5;28;01mNone\u001B[39;00m, dtype\u001B[38;5;241m=\u001B[39m\u001B[38;5;28;01mNone\u001B[39;00m, out\u001B[38;5;241m=\u001B[39m\u001B[38;5;28;01mNone\u001B[39;00m, keepdims\u001B[38;5;241m=\u001B[39mnp\u001B[38;5;241m.\u001B[39m_NoValue,\n\u001B[1;32m   2340\u001B[0m         initial\u001B[38;5;241m=\u001B[39mnp\u001B[38;5;241m.\u001B[39m_NoValue, where\u001B[38;5;241m=\u001B[39mnp\u001B[38;5;241m.\u001B[39m_NoValue):\n",
      "\u001B[0;31mKeyboardInterrupt\u001B[0m: "
     ]
    }
   ],
   "execution_count": 27
  }
 ],
 "metadata": {
  "kernelspec": {
   "display_name": "Python 3",
   "language": "python",
   "name": "python3"
  },
  "language_info": {
   "codemirror_mode": {
    "name": "ipython",
    "version": 2
   },
   "file_extension": ".py",
   "mimetype": "text/x-python",
   "name": "python",
   "nbconvert_exporter": "python",
   "pygments_lexer": "ipython2",
   "version": "2.7.6"
  }
 },
 "nbformat": 4,
 "nbformat_minor": 5
}
